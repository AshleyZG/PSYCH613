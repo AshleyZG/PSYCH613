{
 "cells": [
  {
   "cell_type": "code",
   "execution_count": 3,
   "id": "63265462-a8c3-4b49-8e1b-74a272dd4dcf",
   "metadata": {},
   "outputs": [],
   "source": [
    "import pandas as pd"
   ]
  },
  {
   "cell_type": "markdown",
   "id": "6c1da4a0-b325-44d6-aa7b-e6657cccf644",
   "metadata": {},
   "source": [
    "## (a)"
   ]
  },
  {
   "cell_type": "code",
   "execution_count": 4,
   "id": "c0f98782-b795-43aa-8c23-fb1633ed627e",
   "metadata": {},
   "outputs": [],
   "source": [
    "d = {'standard': [80, 93, 83, 89, 98, 81, 93], 'novel': [100, 103, 104, 99, 102, 101, 103]}"
   ]
  },
  {
   "cell_type": "code",
   "execution_count": 5,
   "id": "8e3e6118-5e94-4036-8d4b-8c098e09f852",
   "metadata": {},
   "outputs": [],
   "source": [
    "df = pd.DataFrame(data = d)"
   ]
  },
  {
   "cell_type": "code",
   "execution_count": 6,
   "id": "0d2459c0-b345-45c2-b9b6-0f4024dea091",
   "metadata": {},
   "outputs": [
    {
     "data": {
      "text/html": [
       "<div>\n",
       "<style scoped>\n",
       "    .dataframe tbody tr th:only-of-type {\n",
       "        vertical-align: middle;\n",
       "    }\n",
       "\n",
       "    .dataframe tbody tr th {\n",
       "        vertical-align: top;\n",
       "    }\n",
       "\n",
       "    .dataframe thead th {\n",
       "        text-align: right;\n",
       "    }\n",
       "</style>\n",
       "<table border=\"1\" class=\"dataframe\">\n",
       "  <thead>\n",
       "    <tr style=\"text-align: right;\">\n",
       "      <th></th>\n",
       "      <th>standard</th>\n",
       "      <th>novel</th>\n",
       "    </tr>\n",
       "  </thead>\n",
       "  <tbody>\n",
       "    <tr>\n",
       "      <th>0</th>\n",
       "      <td>80</td>\n",
       "      <td>100</td>\n",
       "    </tr>\n",
       "    <tr>\n",
       "      <th>1</th>\n",
       "      <td>93</td>\n",
       "      <td>103</td>\n",
       "    </tr>\n",
       "    <tr>\n",
       "      <th>2</th>\n",
       "      <td>83</td>\n",
       "      <td>104</td>\n",
       "    </tr>\n",
       "    <tr>\n",
       "      <th>3</th>\n",
       "      <td>89</td>\n",
       "      <td>99</td>\n",
       "    </tr>\n",
       "    <tr>\n",
       "      <th>4</th>\n",
       "      <td>98</td>\n",
       "      <td>102</td>\n",
       "    </tr>\n",
       "    <tr>\n",
       "      <th>5</th>\n",
       "      <td>81</td>\n",
       "      <td>101</td>\n",
       "    </tr>\n",
       "    <tr>\n",
       "      <th>6</th>\n",
       "      <td>93</td>\n",
       "      <td>103</td>\n",
       "    </tr>\n",
       "  </tbody>\n",
       "</table>\n",
       "</div>"
      ],
      "text/plain": [
       "   standard  novel\n",
       "0        80    100\n",
       "1        93    103\n",
       "2        83    104\n",
       "3        89     99\n",
       "4        98    102\n",
       "5        81    101\n",
       "6        93    103"
      ]
     },
     "execution_count": 6,
     "metadata": {},
     "output_type": "execute_result"
    }
   ],
   "source": [
    "df"
   ]
  },
  {
   "cell_type": "markdown",
   "id": "2883c6c5-7981-4c17-90c5-d7260007850a",
   "metadata": {},
   "source": [
    "## (b)"
   ]
  },
  {
   "cell_type": "code",
   "execution_count": 9,
   "id": "207dd864-8dc5-4dba-a51b-6ca4242da383",
   "metadata": {},
   "outputs": [
    {
     "data": {
      "text/plain": [
       "<AxesSubplot:>"
      ]
     },
     "execution_count": 9,
     "metadata": {},
     "output_type": "execute_result"
    },
    {
     "data": {
      "image/png": "[encoded data removed]",
      "text/plain": [
       "<Figure size 640x480 with 1 Axes>"
      ]
     },
     "metadata": {},
     "output_type": "display_data"
    }
   ],
   "source": [
    "df.boxplot(column=['standard', 'novel'])"
   ]
  },
  {
   "cell_type": "markdown",
   "id": "0f3cdec7-99dd-4af3-b66c-88ebe1b317ca",
   "metadata": {},
   "source": [
    "I don't think assumption of normality has been violated according to the boxplot above. Even though the boxplot is not perfectly symmetric, there's no outliers."
   ]
  },
  {
   "cell_type": "markdown",
   "id": "421c03ba-bac6-40c9-93a3-8b9aa15057ac",
   "metadata": {},
   "source": [
    "## (c)"
   ]
  },
  {
   "cell_type": "markdown",
   "id": "dc015201-b0d0-49db-8b40-16b32f7e77f5",
   "metadata": {},
   "source": [
    "**Null Hypothesis**  \n",
    "$H_0 : \\mu =0$  \n",
    "$H_a = \\mu \\neq 0$"
   ]
  },
  {
   "cell_type": "markdown",
   "id": "94ed165c-cb9a-4ac5-be91-fcbda78425dc",
   "metadata": {},
   "source": [
    "**Structural Model and Test Statistic**  \n",
    "The statistic is calculated as $$t~\\frac{mean(standard)-mean(novel)}{standard error}$$   \n",
    "The statistic will be positive when the sample mean of standard is greater the the sample of b and negative when the sample mean of a is less than the sample mean of b"
   ]
  },
  {
   "cell_type": "code",
   "execution_count": 12,
   "id": "00d48d7d-9e1d-4884-ba0a-3bce8099e37e",
   "metadata": {},
   "outputs": [],
   "source": [
    "from scipy import stats\n"
   ]
  },
  {
   "cell_type": "code",
   "execution_count": 13,
   "id": "2b2903ad-87e4-416f-9e79-2f6d161fcc45",
   "metadata": {},
   "outputs": [],
   "source": [
    "t, p = stats.ttest_ind(df['standard'], df['novel'])"
   ]
  },
  {
   "cell_type": "code",
   "execution_count": 14,
   "id": "c0434440-771f-4a88-a2ed-1c59c7aed3df",
   "metadata": {},
   "outputs": [
    {
     "data": {
      "text/plain": [
       "-5.009259267190251"
      ]
     },
     "execution_count": 14,
     "metadata": {},
     "output_type": "execute_result"
    }
   ],
   "source": [
    "t"
   ]
  },
  {
   "cell_type": "markdown",
   "id": "7680cfc1-e081-4aac-81d2-fc952fb5858c",
   "metadata": {},
   "source": [
    "the observed t value is -5.009"
   ]
  },
  {
   "cell_type": "code",
   "execution_count": 15,
   "id": "2612631c-a3d7-4ac9-a919-3f6328891241",
   "metadata": {},
   "outputs": [
    {
     "data": {
      "text/plain": [
       "0.00030455436049232464"
      ]
     },
     "execution_count": 15,
     "metadata": {},
     "output_type": "execute_result"
    }
   ],
   "source": [
    "p"
   ]
  },
  {
   "cell_type": "markdown",
   "id": "67dad90f-226b-4e41-9d13-15a6f90267fa",
   "metadata": {},
   "source": [
    "**We can use scipy to find the critical t value**  \n",
    "the degree of freedom is 6 since we have 7 samples in each groups"
   ]
  },
  {
   "cell_type": "code",
   "execution_count": 20,
   "id": "7fb409de-9413-40d7-94e3-158c56562bce",
   "metadata": {},
   "outputs": [
    {
     "data": {
      "text/plain": [
       "2.4469118487916806"
      ]
     },
     "execution_count": 20,
     "metadata": {},
     "output_type": "execute_result"
    }
   ],
   "source": [
    "t_critical = stats.t.ppf(q=1-.05/2,df=6)\n",
    "t_critical"
   ]
  },
  {
   "cell_type": "markdown",
   "id": "bf3ec2f7-a439-400f-9cc6-683239269f96",
   "metadata": {},
   "source": [
    "Since the absolute value of the ovserve t value is greater than the critical t value, the null hypothesis is rejected. The final conclusion is that the mean reading score for first graders who learned under the novel method is greater than the mean reading score for first graders who learned under the traditional method. "
   ]
  },
  {
   "cell_type": "markdown",
   "id": "518d817d-d3eb-44db-a9a4-2569c25e3f8a",
   "metadata": {},
   "source": [
    "## (d)"
   ]
  },
  {
   "cell_type": "markdown",
   "id": "09290fba-2b64-42ed-a5df-2a80287c37b2",
   "metadata": {},
   "source": [
    "To run welch's test, we can pass False to equal_vr parameter"
   ]
  },
  {
   "cell_type": "code",
   "execution_count": 21,
   "id": "94efe30f-2fc1-4596-b130-2da34a7544b0",
   "metadata": {},
   "outputs": [],
   "source": [
    "t, p = stats.ttest_ind(df['standard'], df['novel'], equal_var=False)"
   ]
  },
  {
   "cell_type": "code",
   "execution_count": 22,
   "id": "786418d8-caed-467b-9c17-ecfe1e8a9a72",
   "metadata": {},
   "outputs": [
    {
     "data": {
      "text/plain": [
       "-5.009259267190251"
      ]
     },
     "execution_count": 22,
     "metadata": {},
     "output_type": "execute_result"
    }
   ],
   "source": [
    "t"
   ]
  },
  {
   "cell_type": "code",
   "execution_count": 24,
   "id": "60906934-311b-4ca1-910f-e7c612729217",
   "metadata": {},
   "outputs": [
    {
     "name": "stdout",
     "output_type": "stream",
     "text": [
      "Welch-Satterthwaite Degrees of Freedom= 6.8035\n"
     ]
    }
   ],
   "source": [
    "def welch_dof(x,y):\n",
    "        dof = (x.var()/x.size + y.var()/y.size)**2 / ((x.var()/x.size)**2 / (x.size-1) + (y.var()/y.size)**2 / (y.size-1))\n",
    "        print(f\"Welch-Satterthwaite Degrees of Freedom= {dof:.4f}\")\n",
    "        \n",
    "welch_dof(df['standard'], df['novel'])"
   ]
  },
  {
   "cell_type": "code",
   "execution_count": 25,
   "id": "ed916839-e8fe-4cfa-b619-f625a48886eb",
   "metadata": {},
   "outputs": [
    {
     "name": "stdout",
     "output_type": "stream",
     "text": [
      "\n",
      " Welch's t-test= -5.0093 \n",
      " p-value = 0.0017 \n",
      " Welch-Satterthwaite Degrees of Freedom= 6.8035\n"
     ]
    }
   ],
   "source": [
    "def welch_ttest(x, y): \n",
    "    ## Welch-Satterthwaite Degrees of Freedom ##\n",
    "    dof = (x.var()/x.size + y.var()/y.size)**2 / ((x.var()/x.size)**2 / (x.size-1) + (y.var()/y.size)**2 / (y.size-1))\n",
    "   \n",
    "    t, p = stats.ttest_ind(x, y, equal_var = False)\n",
    "    \n",
    "    print(\"\\n\",\n",
    "          f\"Welch's t-test= {t:.4f}\", \"\\n\",\n",
    "          f\"p-value = {p:.4f}\", \"\\n\",\n",
    "          f\"Welch-Satterthwaite Degrees of Freedom= {dof:.4f}\")\n",
    "\n",
    "welch_ttest(df['standard'], df['novel'])"
   ]
  },
  {
   "cell_type": "markdown",
   "id": "e0ba99e2-fadf-4f0f-ace3-b0c503b476fb",
   "metadata": {},
   "source": [
    "**Difference**\n",
    "In (c), the t-test assumes that the sample means being compared for two populations are normally distributes, and that the populations have equal variances. Welch's t-test is designed for unequal population variances, bu the assumption of normality is maintained. "
   ]
  },
  {
   "cell_type": "markdown",
   "id": "9116db3e-09d5-4bde-9baf-969d64cf1dcf",
   "metadata": {},
   "source": [
    "Welch t-test is robust for testing the mean equality when homogeneity assumption is not satisfied. "
   ]
  },
  {
   "cell_type": "markdown",
   "id": "e906a528-1d94-4e0c-8d4b-ac4b5637118a",
   "metadata": {},
   "source": [
    "## (e)"
   ]
  },
  {
   "cell_type": "code",
   "execution_count": 29,
   "id": "9cab857e-82a0-4f26-a67e-81210813ec62",
   "metadata": {},
   "outputs": [],
   "source": [
    "import numpy as np"
   ]
  },
  {
   "cell_type": "code",
   "execution_count": 33,
   "id": "67342590-c828-44ed-b94d-88aebd75a8ec",
   "metadata": {},
   "outputs": [],
   "source": [
    "import statsmodels.stats.api as sms\n"
   ]
  },
  {
   "cell_type": "code",
   "execution_count": 36,
   "id": "4f141e99-8925-4874-9517-de79ba4d0dcf",
   "metadata": {},
   "outputs": [],
   "source": [
    "import numpy as np\n",
    "from scipy.stats import ttest_ind\n",
    "from scipy.stats import t\n",
    "import pandas as pd\n",
    "\n",
    "def welch_ttest(x1, x2,alternative):\n",
    "    \n",
    "    n1 = x1.size\n",
    "    n2 = x2.size\n",
    "    m1 = np.mean(x1)\n",
    "    m2 = np.mean(x2)\n",
    "    \n",
    "    v1 = np.var(x1, ddof=1)\n",
    "    v2 = np.var(x2, ddof=1)\n",
    "    \n",
    "    pooled_se = np.sqrt(v1 / n1 + v2 / n2)\n",
    "    delta = m1-m2\n",
    "    \n",
    "    tstat = delta /  pooled_se\n",
    "    df = (v1 / n1 + v2 / n2)**2 / (v1**2 / (n1**2 * (n1 - 1)) + v2**2 / (n2**2 * (n2 - 1)))\n",
    "    \n",
    "    # two side t-test\n",
    "    p = 2 * t.cdf(-abs(tstat), df)\n",
    "    \n",
    "    # upper and lower bounds\n",
    "    lb = delta - t.ppf(0.975,df)*pooled_se \n",
    "    ub = delta + t.ppf(0.975,df)*pooled_se\n",
    "  \n",
    "    return pd.DataFrame(np.array([tstat,df,p,delta,lb,ub]).reshape(1,-1),\n",
    "                         columns=['T statistic','df','pvalue 2 sided','Difference in mean','lb','ub'])"
   ]
  },
  {
   "cell_type": "code",
   "execution_count": 39,
   "id": "ff7830f0-7d26-43a1-ab9f-86719ce66453",
   "metadata": {},
   "outputs": [
    {
     "data": {
      "text/html": [
       "<div>\n",
       "<style scoped>\n",
       "    .dataframe tbody tr th:only-of-type {\n",
       "        vertical-align: middle;\n",
       "    }\n",
       "\n",
       "    .dataframe tbody tr th {\n",
       "        vertical-align: top;\n",
       "    }\n",
       "\n",
       "    .dataframe thead th {\n",
       "        text-align: right;\n",
       "    }\n",
       "</style>\n",
       "<table border=\"1\" class=\"dataframe\">\n",
       "  <thead>\n",
       "    <tr style=\"text-align: right;\">\n",
       "      <th></th>\n",
       "      <th>T statistic</th>\n",
       "      <th>df</th>\n",
       "      <th>pvalue 2 sided</th>\n",
       "      <th>Difference in mean</th>\n",
       "      <th>lb</th>\n",
       "      <th>ub</th>\n",
       "    </tr>\n",
       "  </thead>\n",
       "  <tbody>\n",
       "    <tr>\n",
       "      <th>0</th>\n",
       "      <td>-5.009259</td>\n",
       "      <td>6.803487</td>\n",
       "      <td>0.001685</td>\n",
       "      <td>-13.571429</td>\n",
       "      <td>-20.015534</td>\n",
       "      <td>-7.127323</td>\n",
       "    </tr>\n",
       "  </tbody>\n",
       "</table>\n",
       "</div>"
      ],
      "text/plain": [
       "   T statistic        df  pvalue 2 sided  Difference in mean         lb  \\\n",
       "0    -5.009259  6.803487        0.001685          -13.571429 -20.015534   \n",
       "\n",
       "         ub  \n",
       "0 -7.127323  "
      ]
     },
     "execution_count": 39,
     "metadata": {},
     "output_type": "execute_result"
    }
   ],
   "source": [
    "welch_ttest(df['standard'], df['novel'], 0.025)"
   ]
  },
  {
   "cell_type": "markdown",
   "id": "f0171235-6b24-4f2e-9cbf-3f585f804f0d",
   "metadata": {},
   "source": [
    "\n",
    "From the results above, we can tell that we are 95% confident about the difference of mean between $[-20.016, -7,127]$"
   ]
  },
  {
   "cell_type": "markdown",
   "id": "122a8d88-246c-4183-a8d1-0f014d03aba6",
   "metadata": {},
   "source": [
    "## (f)"
   ]
  },
  {
   "cell_type": "markdown",
   "id": "5f51cabd-6326-4112-80f3-d8a5ae5e8ef3",
   "metadata": {},
   "source": [
    "t test give you the result of all data. While the confidence interval let you know which of the Raw data is not laying within the confidence interval. A t-test at alpha significance level is identical with an (1-alpha/2) confidence interval when the test is two-tailed. In this case, they're identical. "
   ]
  },
  {
   "cell_type": "markdown",
   "id": "522edf1a-e51b-4250-90b7-6c1a58654c40",
   "metadata": {},
   "source": [
    "## (g)"
   ]
  },
  {
   "cell_type": "markdown",
   "id": "f2c0e028-6377-41c7-b754-4fe53b61bf8a",
   "metadata": {},
   "source": [
    "I cannot conclude that teaching method is a causal factor of the observed mean difference. There are other factors could affect the final results, like who the teacher is and the teaching content."
   ]
  },
  {
   "cell_type": "code",
   "execution_count": null,
   "id": "22342217-db17-4ac8-a0a2-303f86cfca5e",
   "metadata": {},
   "outputs": [],
   "source": []
  }
 ],
 "metadata": {
  "kernelspec": {
   "display_name": "Python 3 (ipykernel)",
   "language": "python",
   "name": "python3"
  },
  "language_info": {
   "codemirror_mode": {
    "name": "ipython",
    "version": 3
   },
   "file_extension": ".py",
   "mimetype": "text/x-python",
   "name": "python",
   "nbconvert_exporter": "python",
   "pygments_lexer": "ipython3",
   "version": "3.10.4"
  }
 },
 "nbformat": 4,
 "nbformat_minor": 5
}
